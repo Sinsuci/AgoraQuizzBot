{
 "cells": [
  {
   "cell_type": "code",
   "execution_count": 1,
   "metadata": {},
   "outputs": [],
   "source": [
    "import matplotlib.pyplot as plt\n",
    "from matplotlib import pyplot as plt\n",
    "\n",
    "import pytesseract\n",
    "pytesseract.pytesseract.tesseract_cmd = r'L:\\Program Files\\Tesseract-OCR\\tesseract.exe'\n",
    "import pyautogui\n",
    "import time\n",
    "\n",
    "from DataQuizz import DataQuizz\n",
    "import Fonctions\n",
    "from difflib import SequenceMatcher\n",
    "import threading\n",
    "import time \n"
   ]
  },
  {
   "cell_type": "code",
   "execution_count": 2,
   "metadata": {},
   "outputs": [],
   "source": [
    "dq = DataQuizz(\"data_quiz\")\n",
    "\n",
    "CooRx = (200,25) #Echantillon couleur\n",
    "\n",
    "#Coordonnées smurf / main\n",
    "#Smurf\n",
    "th1xyxys = (1050, 410),(1840, 520) #Theme 1\n",
    "th2xyxys = (1050, 580),(1840, 690) #Theme 2\n",
    "th3xyxys = (1050, 750),(1840, 860) #Theme 3\n",
    "th1xys = (1440, 410) #Theme 1 1 click\n",
    "th2xys = (1440, 580) #Theme 2 1 click\n",
    "th3xys = (1440, 750) #Theme 3 1 click\n",
    "qxyxys = (992, 291),(1870, 371) #Question\n",
    "r1xyxys = (1010, 410),(1400, 645) #Réponse 1\n",
    "r2xyxys = (1460, 420),(1840, 650) #Réponse 2\n",
    "r3xyxys = (1020, 700),(1400, 925) #Réponse 3\n",
    "r4xyxys = (1460, 710),(1840, 920) #Réponse 4\n",
    "r1xys = (1045, 410) #Réponse 1 click\n",
    "r2xys = (1460, 420) #Réponse 2 click\n",
    "r3xys = (1045, 700) #Réponse 3 click\n",
    "r4xys = (1460, 710) #Réponse 4 click\n",
    "lvlupxys = (1440,705) #Level up click\n",
    "ctxys = (1370,520) #Continuer click\n",
    "lvxys = (1050,450) #leave fail click\n",
    "\n",
    "#Main\n",
    "th1xyxym = (70,405),(890,530) #Theme 1\n",
    "th2xyxym = (70,575),(890,700) #Theme 2\n",
    "th3xyxym = (70,750),(890,870) #Theme 3\n",
    "th1xym = (480,405) #Theme 1 click\n",
    "th2xym = (480,575) #Theme 2 click\n",
    "th3xym = (480,750) #Theme 3 click\n",
    "qxyxym = (30,315),(920,370) #Question\n",
    "r1xyxym = (60,390),(455,630) #Réponse 1\n",
    "r2xyxym = (500,390),(900,640) #Réponse 2\n",
    "r3xyxym = (50,680),(455,930) #Réponse 3\n",
    "r4xyxym = (500,680),(900,935) #Réponse 4\n",
    "r1xym = (85,445) #Réponse 1 click 390 to 445\n",
    "r2xym = (500,445) #Réponse 2 click 390 to 445\n",
    "r3xym = (85,735) #Réponse 3 click 680 to 735\n",
    "r4xym = (500,735) #Réponse 4 click 680 to 735\n",
    "lvlupxym = (480,705) #Level up click\n",
    "ctxym = (370,520) #Continuer click\n",
    "lvxym = (120,405) #leave fail click\n",
    "\n",
    "\n",
    "#Main : Retour aux parties en cours et suite manche click\n",
    "pxl_11xym = (375,750)\n",
    "pxl_12xym = (480,750)\n",
    "pxl_13xym = (580,750)\n",
    "pxl_21xym = (375,780)\n",
    "pxl_22xym = (480,780)\n",
    "pxl_23xym = (580,780)\n",
    "pxl_31xym = (375,830)\n",
    "pxl_32xym = (480,830)\n",
    "pxl_33xym = (580,830)\n",
    "\n",
    "#Smurf : Retour aux parties en cours et suite manche click\n",
    "pxl_11xys = (1335,750)\n",
    "pxl_12xys = (1435,750)\n",
    "pxl_13xys = (1545,750)\n",
    "pxl_21xys = (1335,780)\n",
    "pxl_22xys = (1435,780)\n",
    "pxl_23xys = (1545,780)\n",
    "pxl_31xys = (1335,828)\n",
    "pxl_32xys = (1435,828)\n",
    "pxl_33xys = (1545,828)\n",
    "\n",
    "\n"
   ]
  },
  {
   "cell_type": "markdown",
   "metadata": {},
   "source": [
    "# Test"
   ]
  },
  {
   "cell_type": "code",
   "execution_count": 3,
   "metadata": {},
   "outputs": [],
   "source": [
    "#dq.data #Lecture fichier\n",
    "#len(dq.data)\n",
    "\n",
    "#conda activate\n",
    "#python AgoraBot.py\n",
    "#jupyter nbconvert --to script AgoraBot.ipynb"
   ]
  },
  {
   "cell_type": "markdown",
   "metadata": {},
   "source": [
    "# Core"
   ]
  },
  {
   "cell_type": "code",
   "execution_count": 4,
   "metadata": {},
   "outputs": [],
   "source": [
    "#while True :\n",
    "\n",
    "#Début temps session\n",
    "start_time = time.time()"
   ]
  },
  {
   "cell_type": "code",
   "execution_count": 5,
   "metadata": {},
   "outputs": [],
   "source": [
    "#Timer reset si crash +350s\n",
    "\n",
    "#my_timer = Fonctions.MyTimer()\n",
    "#x = threading.Thread(target=Fonctions.thread_function, args=(my_timer,lvxym,lvxys,), daemon=True)\n",
    "\n",
    "#if :\n",
    "#    my_timer.reset = True #Reset timer\n",
    "#else :\n",
    "#    x.start()\n"
   ]
  },
  {
   "cell_type": "code",
   "execution_count": 6,
   "metadata": {},
   "outputs": [
    {
     "name": "stdout",
     "output_type": "stream",
     "text": [
      "SM0\n",
      "SM1\n",
      "SM1.\n"
     ]
    }
   ],
   "source": [
    "#Smurf M0 : Lancer défi + clean saisie par F5\n",
    "Fonctions.defie()\n",
    "manche = 1\n",
    "print(\"SM0\")\n",
    "\n",
    "#Smurf M1 : Choix theme\n",
    "time.sleep(1)\n",
    "SKIP = 0\n",
    "SKIP = Fonctions.choixtheme(th1xyxys,th2xyxys,th3xyxys,th1xys,th2xys,th3xys)\n",
    "print(\"SM1\")\n",
    "\n",
    "#Smurf M1 : Réponse / Skip\n",
    "Fonctions.fctanswerSmurf(SKIP,ctxys,manche,qxyxys,r1xyxys,r2xyxys,r3xyxys,r4xyxys,lvlupxys,pxl_11xys,pxl_12xys,pxl_13xys,pxl_21xys,pxl_22xys,pxl_23xys,pxl_31xys,pxl_32xys,pxl_33xys,lvxys,r1xys)\n",
    "print(\"SM1.\")"
   ]
  },
  {
   "cell_type": "code",
   "execution_count": 7,
   "metadata": {},
   "outputs": [
    {
     "name": "stdout",
     "output_type": "stream",
     "text": [
      "MM1\n",
      "MM1.\n",
      "MM2\n",
      "MM2.\n"
     ]
    }
   ],
   "source": [
    "#Au Main de jouer\n",
    "time.sleep(2)\n",
    "pyautogui.click(ctxym)\n",
    "print(\"MM1\")\n",
    "\n",
    "#Main M1 : Réponse / Skip\n",
    "Fonctions.fctanswerMain(SKIP,ctxym,manche,qxyxym,r1xyxym,r2xyxym,r3xyxym,r4xyxym,lvlupxym,pxl_11xym,pxl_12xym,pxl_13xym,pxl_21xym,pxl_22xym,pxl_23xym,pxl_31xym,pxl_32xym,pxl_33xym,lvxym,r1xym,r2xym,r3xym,r4xym)\n",
    "print(\"MM1.\")\n",
    "\n",
    "#Main M2 : Choix theme\n",
    "manche = manche + 1\n",
    "time.sleep(1)\n",
    "SKIP = 0\n",
    "SKIP = Fonctions.choixtheme(th1xyxym,th2xyxym,th3xyxym,th1xym,th2xym,th3xym)\n",
    "print(\"MM2\")\n",
    "\n",
    "#Main M2 : Réponse / Skip\n",
    "Fonctions.fctanswerMain(SKIP,ctxym,manche,qxyxym,r1xyxym,r2xyxym,r3xyxym,r4xyxym,lvlupxym,pxl_11xym,pxl_12xym,pxl_13xym,pxl_21xym,pxl_22xym,pxl_23xym,pxl_31xym,pxl_32xym,pxl_33xym,lvxym,r1xym,r2xym,r3xym,r4xym)\n",
    "print(\"MM2.\")\n"
   ]
  },
  {
   "cell_type": "code",
   "execution_count": 8,
   "metadata": {},
   "outputs": [
    {
     "name": "stdout",
     "output_type": "stream",
     "text": [
      "SM2\n",
      "SM2.\n",
      "SM3\n",
      "SM3.\n"
     ]
    }
   ],
   "source": [
    "#Au Smurf de jouer\n",
    "time.sleep(2)\n",
    "pyautogui.click(ctxys)\n",
    "print(\"SM2\")\n",
    "\n",
    "#Smurf M2 : Skip\n",
    "time.sleep(2)\n",
    "pyautogui.press('F5')\n",
    "time.sleep(2)\n",
    "pyautogui.click(ctxys)\n",
    "time.sleep(0.5)\n",
    "pyautogui.click(ctxys)\n",
    "print(\"SM2.\")\n",
    "\n",
    "\n",
    "#Smurf M3 : Choix theme\n",
    "manche = manche + 1\n",
    "time.sleep(1)\n",
    "SKIP = 0\n",
    "SKIP = Fonctions.choixtheme(th1xyxys,th2xyxys,th3xyxys,th1xys,th2xys,th3xys)\n",
    "print(\"SM3\")\n",
    "\n",
    "#Smurf M3 : Réponse / Skip\n",
    "Fonctions.fctanswerSmurf(SKIP,ctxys,manche,qxyxys,r1xyxys,r2xyxys,r3xyxys,r4xyxys,lvlupxys,pxl_11xys,pxl_12xys,pxl_13xys,pxl_21xys,pxl_22xys,pxl_23xys,pxl_31xys,pxl_32xys,pxl_33xys,lvxys,r1xys)\n",
    "print(\"SM3.\")\n"
   ]
  },
  {
   "cell_type": "code",
   "execution_count": 9,
   "metadata": {},
   "outputs": [
    {
     "name": "stdout",
     "output_type": "stream",
     "text": [
      "MM3\n",
      "MM3.\n",
      "MM4\n",
      "MM4.\n"
     ]
    }
   ],
   "source": [
    "#Au Main de jouer\n",
    "time.sleep(2)\n",
    "pyautogui.click(ctxym)\n",
    "print(\"MM3\")\n",
    "\n",
    "#Main M3 : Réponse / Skip\n",
    "Fonctions.fctanswerMain(SKIP,ctxym,manche,qxyxym,r1xyxym,r2xyxym,r3xyxym,r4xyxym,lvlupxym,pxl_11xym,pxl_12xym,pxl_13xym,pxl_21xym,pxl_22xym,pxl_23xym,pxl_31xym,pxl_32xym,pxl_33xym,lvxym,r1xym,r2xym,r3xym,r4xym)\n",
    "print(\"MM3.\")\n",
    "\n",
    "#Main M4 : choix theme\n",
    "manche = manche + 1\n",
    "time.sleep(1)\n",
    "SKIP = 0\n",
    "SKIP = Fonctions.choixtheme(th1xyxym,th2xyxym,th3xyxym,th1xym,th2xym,th3xym)\n",
    "print(\"MM4\")\n",
    "\n",
    "#Main M4 : Réponse / Skip\n",
    "Fonctions.fctanswerMain(SKIP,ctxym,manche,qxyxym,r1xyxym,r2xyxym,r3xyxym,r4xyxym,lvlupxym,pxl_11xym,pxl_12xym,pxl_13xym,pxl_21xym,pxl_22xym,pxl_23xym,pxl_31xym,pxl_32xym,pxl_33xym,lvxym,r1xym,r2xym,r3xym,r4xym)\n",
    "print(\"MM4.\")\n",
    "\n"
   ]
  },
  {
   "cell_type": "code",
   "execution_count": 10,
   "metadata": {},
   "outputs": [
    {
     "name": "stdout",
     "output_type": "stream",
     "text": [
      "SM4\n",
      "SM4.\n",
      "SM4..\n"
     ]
    }
   ],
   "source": [
    "#Au Smurf de jouer\n",
    "time.sleep(2)\n",
    "pyautogui.click(ctxys)\n",
    "print(\"SM4\")\n",
    "time.sleep(2)\n",
    "pyautogui.press('F5')\n",
    "time.sleep(2)\n",
    "pyautogui.click(ctxys)\n",
    "print(\"SM4.\")\n",
    "#si lvl up\n",
    "time.sleep(2)\n",
    "pyautogui.press('F5')\n",
    "print(\"SM4..\")"
   ]
  },
  {
   "cell_type": "code",
   "execution_count": 11,
   "metadata": {},
   "outputs": [
    {
     "name": "stdout",
     "output_type": "stream",
     "text": [
      "--- 257.16360664367676 seconds ---\n"
     ]
    }
   ],
   "source": [
    "#Fin temps session for statistiques\n",
    "print(\"--- %s seconds ---\" % (time.time() - start_time))"
   ]
  }
 ],
 "metadata": {
  "interpreter": {
   "hash": "05b9e537f2b59cbc3c12f6cb9786b379bafa4982103b2a2019705f706668400c"
  },
  "kernelspec": {
   "display_name": "Python 3.9.7 64-bit ('base': conda)",
   "language": "python",
   "name": "python3"
  },
  "language_info": {
   "codemirror_mode": {
    "name": "ipython",
    "version": 3
   },
   "file_extension": ".py",
   "mimetype": "text/x-python",
   "name": "python",
   "nbconvert_exporter": "python",
   "pygments_lexer": "ipython3",
   "version": "3.9.7"
  },
  "orig_nbformat": 4
 },
 "nbformat": 4,
 "nbformat_minor": 2
}
